{
 "cells": [
  {
   "cell_type": "code",
   "execution_count": 61,
   "id": "cb7740da",
   "metadata": {},
   "outputs": [
    {
     "name": "stdout",
     "output_type": "stream",
     "text": [
      "[['0A' '0B' '0C' '0D']\n",
      " ['3A' '3B' '3C' '3D']\n",
      " ['6A' '6B' '6C' '6D']\n",
      " ['1A' '1B' '1C' '1D']\n",
      " ['4A' '4B' '4C' '4D']\n",
      " ['7A' '7B' '7C' '7D']\n",
      " ['2A' '2B' '2C' '2D']\n",
      " ['5A' '5B' '5C' '5D']\n",
      " ['8A' '8B' '8C' '8D']]\n",
      "[['0A' '0B' '0C' '0D']\n",
      " ['1A' '1B' '1C' '1D']\n",
      " ['2A' '2B' '2C' '2D']\n",
      " ['3A' '3B' '3C' '3D']\n",
      " ['4A' '4B' '4C' '4D']\n",
      " ['5A' '5B' '5C' '5D']\n",
      " ['6A' '6B' '6C' '6D']\n",
      " ['7A' '7B' '7C' '7D']\n",
      " ['8A' '8B' '8C' '8D']]\n"
     ]
    }
   ],
   "source": [
    "import numpy as np\n",
    "import numpy as np\n",
    "\n",
    "x = np.array([\n",
    "    \"0A\",\"1A\",\"2A\", # 1\n",
    "    \"0B\",\"1B\",\"2B\",\n",
    "    \"0C\",\"1C\",\"2C\",\n",
    "    \"0D\",\"1D\",\"2D\",\n",
    "    \"3A\",\"4A\",\"5A\", # 2\n",
    "    \"3B\",\"4B\",\"5B\",\n",
    "    \"3C\",\"4C\",\"5C\",\n",
    "    \"3D\",\"4D\",\"5D\",\n",
    "    \"6A\",\"7A\",\"8A\", # 3\n",
    "    \"6B\",\"7B\",\"8B\",\n",
    "    \"6C\",\"7C\",\"8C\",\n",
    "    \"6D\",\"7D\",\"8D\"\n",
    "])\n",
    "\n",
    "B = 4   # batch per sample\n",
    "M = 3   # number of samples per iteration\n",
    "N = 3   # number of iterations\n",
    "\n",
    "\n",
    "y = np.zeros((M*N,B), dtype=x.dtype)\n",
    "\n",
    "\n",
    "# Equation to map flat index k (0..M*N*B-1) to (row, col) in y:\n",
    "# row = k % (M*N//B) + (k // (M*N)) * (M*N//B)\n",
    "# col = (k // (M*N//B)) % B\n",
    "\n",
    "# Use reshape and transpose to get the desired output for any B, M, N\n",
    "y[:] = x.reshape(N, B, M).transpose(2, 0, 1).reshape(M*N, B)\n",
    "\n",
    "# Uninterleave y\n",
    "def uninterleave(arr, N):\n",
    "    rows = arr.shape[0]\n",
    "    M = rows // N\n",
    "    idx = np.arange(rows)\n",
    "    inv = (idx % M) * N + (idx // M)\n",
    "    return arr[inv]\n",
    "\n",
    "arr = uninterleave(y, N)\n",
    "\n",
    "\n",
    "#\n",
    "# We want x in form\n",
    "#\n",
    "# [\n",
    "#   [0A 0B],\n",
    "#   [1A 1B],\n",
    "#   [2A 2B],\n",
    "#   [3A 3B],\n",
    "#   [4A 4B],\n",
    "#   [5A 5B],\n",
    "# ]\n",
    "#\n",
    "#\n",
    "print(y)\n",
    "print(arr)"
   ]
  },
  {
   "cell_type": "code",
   "execution_count": null,
   "id": "02d646ba",
   "metadata": {},
   "outputs": [],
   "source": [
    "\n",
    "for k in range(M * N * B):\n",
    "    row = (k % (M * N // B)) + (k // (M * N)) * (M * N // B)\n",
    "    col = (k // (M * N // B)) % B\n",
    "    y[row, col] = x[k]\n"
   ]
  },
  {
   "cell_type": "code",
   "execution_count": null,
   "id": "a94473ec",
   "metadata": {},
   "outputs": [],
   "source": [
    "y[:] = x.reshape(N, B, M).transpose(2, 0, 1).reshape(M*N, B)\n",
    "\n",
    "#"
   ]
  },
  {
   "cell_type": "code",
   "execution_count": null,
   "id": "ea3867d5",
   "metadata": {},
   "outputs": [
    {
     "name": "stdout",
     "output_type": "stream",
     "text": [
      "[['0A' '3A' '6A']\n",
      " ['1A' '4A' '7A']\n",
      " ['2A' '5A' '8A']\n",
      " ['0B' '3B' '6B']\n",
      " ['1B' '4B' '7B']\n",
      " ['2B' '5B' '8B']\n",
      " ['0C' '3C' '6C']\n",
      " ['1C' '4C' '7C']\n",
      " ['2C' '5C' '8C']]\n"
     ]
    }
   ],
   "source": [
    "# Reshape into (rows, groups)"
   ]
  },
  {
   "cell_type": "code",
   "execution_count": null,
   "id": "741dbfe0",
   "metadata": {},
   "outputs": [],
   "source": [
    "# Uninterleave y\n",
    "def uninterleave(arr, N):\n",
    "    rows = arr.shape[0]\n",
    "    M = rows // N  # number of groups\n",
    "    # forward permutation (interleaved order)\n",
    "    perm = [i + j*M for i in range(M) for j in range(N)]\n",
    "    # inverse permutation\n",
    "    inv = np.argsort(perm)\n",
    "    return arr[inv]"
   ]
  },
  {
   "cell_type": "code",
   "execution_count": null,
   "id": "35101f8b",
   "metadata": {},
   "outputs": [],
   "source": [
    "y = np.zeros((M*N,B), dtype=x.dtype)\n",
    "\n",
    "\n",
    "# Equation to map flat index k (0..M*N*B-1) to (row, col) in y:\n",
    "# row = k % (M*N//B) + (k // (M*N)) * (M*N//B)\n",
    "# col = (k // (M*N//B)) % B\n",
    "\n",
    "# Use reshape and transpose to get the desired output for any B, M, N\n",
    "y[:] = x.reshape(N, B, M).transpose(2, 0, 1).reshape(M*N, B)\n",
    "\n",
    "# Uninterleave y\n",
    "def uninterleave(arr, N):\n",
    "    rows = arr.shape[0]\n",
    "    M = rows // N  # number of groups\n",
    "    # forward permutation (interleaved order)\n",
    "    perm = [i + j*M for i in range(M) for j in range(N)]\n",
    "    # inverse permutation\n",
    "    inv = np.argsort(perm)\n",
    "    return arr[inv]\n",
    "\n",
    "arr = uninterleave(y, N)"
   ]
  },
  {
   "cell_type": "code",
   "execution_count": null,
   "id": "7d43b037",
   "metadata": {},
   "outputs": [],
   "source": [
    "y = np.zeros((M*N,B), dtype=x.dtype)\n",
    "\n",
    "\n",
    "# Equation to map flat index k (0..M*N*B-1) to (row, col) in y:\n",
    "# row = k % (M*N//B) + (k // (M*N)) * (M*N//B)\n",
    "# col = (k // (M*N//B)) % B\n",
    "\n",
    "# Use reshape and transpose to get the desired output for any B, M, N\n",
    "y[:] = x.reshape(N, B, M).transpose(2, 0, 1).reshape(M*N, B)\n",
    "\n",
    "# Uninterleave y\n",
    "def uninterleave(arr, N):\n",
    "    rows = arr.shape[0]\n",
    "    M = rows // N\n",
    "    idx = np.arange(rows)\n",
    "    inv = (idx % M) * N + (idx // M)\n",
    "    return arr[inv]"
   ]
  },
  {
   "cell_type": "code",
   "execution_count": 63,
   "id": "f513ef00",
   "metadata": {},
   "outputs": [
    {
     "name": "stdout",
     "output_type": "stream",
     "text": [
      "tensor([[11, 12, 13, 14],\n",
      "        [21, 22, 23, 24],\n",
      "        [31, 32, 33, 34],\n",
      "        [41, 42, 43, 44],\n",
      "        [51, 52, 53, 54],\n",
      "        [61, 62, 63, 64],\n",
      "        [71, 72, 73, 74],\n",
      "        [81, 82, 83, 84],\n",
      "        [91, 92, 93, 94]])\n"
     ]
    }
   ],
   "source": [
    "import torch\n",
    "\n",
    "x = np.array(\n",
    "    [\n",
    " [11, 21, 31],\n",
    " [12, 22, 32],\n",
    " [13, 23, 33],\n",
    " [14, 24, 34],\n",
    "\n",
    " [41, 51, 61],\n",
    " [42, 52, 62],\n",
    " [43, 53, 63],\n",
    " [44, 54, 64],\n",
    "\n",
    " [71, 81, 91],\n",
    " [72, 82, 92],\n",
    " [73, 83, 93],\n",
    " [74, 84, 94]\n",
    "]\n",
    ")\n",
    "\n",
    "x = torch.from_numpy(x)\n",
    "\n",
    "# Allocate y\n",
    "y = torch.zeros((M*N, B), dtype=x.dtype, device=x.device)\n",
    "\n",
    "# Reshape/transpose equivalent\n",
    "#   x: [M*N, B] → [N, B, M] → [M, N, B] → [M*N, B]\n",
    "y[:] = x.reshape(N, B, M).permute(2, 0, 1).reshape(M*N, B)\n",
    "\n",
    "# Uninterleave\n",
    "def uninterleave(arr, N):\n",
    "    rows = arr.shape[0]\n",
    "    M = rows // N\n",
    "    idx = torch.arange(rows, device=arr.device)\n",
    "    inv = (idx % M) * N + (idx // M)\n",
    "    return arr[inv]\n",
    "\n",
    "arr = uninterleave(y, N)\n",
    "print(arr)"
   ]
  }
 ],
 "metadata": {
  "kernelspec": {
   "display_name": "Python 3",
   "language": "python",
   "name": "python3"
  },
  "language_info": {
   "codemirror_mode": {
    "name": "ipython",
    "version": 3
   },
   "file_extension": ".py",
   "mimetype": "text/x-python",
   "name": "python",
   "nbconvert_exporter": "python",
   "pygments_lexer": "ipython3",
   "version": "3.10.12"
  }
 },
 "nbformat": 4,
 "nbformat_minor": 5
}
